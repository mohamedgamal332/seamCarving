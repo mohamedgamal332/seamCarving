{
  "nbformat": 4,
  "nbformat_minor": 0,
  "metadata": {
    "colab": {
      "provenance": [],
      "gpuType": "T4"
    },
    "kernelspec": {
      "name": "python3",
      "display_name": "Python 3"
    },
    "language_info": {
      "name": "python"
    },
    "accelerator": "GPU"
  },
  "cells": [
    {
      "cell_type": "code",
      "execution_count": 32,
      "metadata": {
        "id": "mP5ggNuE70ap"
      },
      "outputs": [],
      "source": [
        "import cv2 as cv\n",
        "import numpy as np\n",
        "import matplotlib.pyplot as plt\n",
        "import copy\n",
        "import multiprocessing"
      ]
    },
    {
      "cell_type": "code",
      "source": [
        "#energy calculation of a column (row.T)\n",
        "def energy(image):\n",
        "  kernel = np.array([[-1, -2, -1],\n",
        "                    [0, 0, 0],\n",
        "                    [-1, -2, -1]])\n",
        "  energy = cv.filter2D(image, -1, kernel)\n",
        "  return energy"
      ],
      "metadata": {
        "id": "TduCEmDs9Vqo"
      },
      "execution_count": 33,
      "outputs": []
    },
    {
      "cell_type": "code",
      "source": [
        "#remove a seam (row.T)\n",
        "def remove_seam(image, indexes):\n",
        "  return np.delete(image, indexes, axis=1)"
      ],
      "metadata": {
        "id": "mFPToQhX9Y3V"
      },
      "execution_count": 34,
      "outputs": []
    },
    {
      "cell_type": "code",
      "source": [
        "# sequential Dynamic programming\n",
        "import numpy as np\n",
        "\n",
        "def min_index(p_l, p, p_r):\n",
        "    if p_l <= p and p_l <= p_r:\n",
        "        return -1\n",
        "    elif p <= p_l and p <= p_r:\n",
        "        return 0\n",
        "    else:\n",
        "        return 1\n",
        "\n",
        "def sequential_seam_find(image):\n",
        "    energy_matrix = energy(image)\n",
        "    rows, cols = energy_matrix.shape\n",
        "\n",
        "    # Initialize val only for the valid range (excluding padding)\n",
        "    val = [energy_matrix[rows - 2][j] for j in range(1, cols - 1)]\n",
        "    indexes = [[j] for j in range(1, cols - 1)]  # Store indices for each valid column\n",
        "\n",
        "    for i in range(rows - 3, 0, -1):  # Avoid top and bottom padding\n",
        "        new_val = [0] * (cols - 2)  # Store updated energy values for valid columns\n",
        "        new_indexes = [[] for _ in range(cols - 2)]  # Store updated paths\n",
        "\n",
        "        for j in range(1, cols - 1):  # Avoid left and right padding\n",
        "            # Check boundaries before accessing neighbors\n",
        "            p_l = energy_matrix[i][j - 1] if j - 1 >= 1 else float('inf')\n",
        "            p = energy_matrix[i][j]\n",
        "            p_r = energy_matrix[i][j + 1] if j + 1 < cols - 1 else float('inf')\n",
        "\n",
        "            index_offset = min_index(p_l, p, p_r)\n",
        "            new_val[j - 1] = val[(j - 1) + index_offset] + energy_matrix[i][j]\n",
        "            new_indexes[j - 1] = indexes[(j - 1) + index_offset] + [j]\n",
        "\n",
        "        val = new_val\n",
        "        indexes = new_indexes\n",
        "\n",
        "    return dict(zip(val, indexes))"
      ],
      "metadata": {
        "id": "leabDETMLvBg"
      },
      "execution_count": 35,
      "outputs": []
    },
    {
      "cell_type": "code",
      "source": [
        "# paralle Dynamic programming\n",
        "def min_index(p_l, p, p_r):\n",
        "    if p_l <= p and p_l <= p_r:\n",
        "        return -1\n",
        "    elif p <= p_l and p <= p_r:\n",
        "        return 0\n",
        "    else:\n",
        "        return 1\n",
        "\n",
        "def process_seam(args):\n",
        "    i, j, energy_matrix, val, indexes = args\n",
        "    rows, cols = energy_matrix.shape\n",
        "\n",
        "    p_l = energy_matrix[i][j - 1] if j - 1 >= 1 else float('inf')\n",
        "    p = energy_matrix[i][j]\n",
        "    p_r = energy_matrix[i][j + 1] if j + 1 < cols - 1 else float('inf')\n",
        "\n",
        "    index_offset = min_index(p_l, p, p_r)\n",
        "    new_value = val[j - 1 + index_offset] + p\n",
        "    new_index = indexes[j - 1 + index_offset] + [j]\n",
        "\n",
        "    return j - 1, new_value, new_index\n",
        "\n",
        "def parallel_seam_find(image):\n",
        "    energy_matrix = energy(image)\n",
        "    rows, cols = energy_matrix.shape\n",
        "\n",
        "    val = [energy_matrix[rows - 2][j] for j in range(1, cols - 1)]\n",
        "    indexes = [[j] for j in range(1, cols - 1)]\n",
        "\n",
        "    for i in range(rows - 3, 0, -1):\n",
        "        with multiprocessing.Pool(processes=multiprocessing.cpu_count()) as pool:\n",
        "            results = pool.map(process_seam, [(i, j, energy_matrix, val, indexes) for j in range(1, cols - 1)])\n",
        "\n",
        "        # Unpack results\n",
        "        new_val = [0] * (cols - 2)\n",
        "        new_indexes = [[] for _ in range(cols - 2)]\n",
        "        for j, new_value, new_index in results:\n",
        "            new_val[j] = new_value\n",
        "            new_indexes[j] = new_index\n",
        "\n",
        "        val, indexes = new_val, new_indexes\n",
        "\n",
        "    return dict(zip(val, indexes))\n"
      ],
      "metadata": {
        "id": "WWas1H6p9f7L"
      },
      "execution_count": 36,
      "outputs": []
    },
    {
      "cell_type": "code",
      "source": [
        "# remove seam with min score\n",
        "def remove_min_seam(image):\n",
        "\n",
        "    seams = parallel_seam_find(image)\n",
        "    min_energy = min(seams.keys())\n",
        "    indexes = seams[min_energy]\n",
        "\n",
        "    image = remove_seam(image, indexes)\n",
        "\n",
        "    return image, indexes\n"
      ],
      "metadata": {
        "id": "PQmcDPvbNZi8"
      },
      "execution_count": 37,
      "outputs": []
    },
    {
      "cell_type": "code",
      "source": [
        "# deal with columns\n",
        "def uni_resize(image, seam_y):\n",
        "  indexes = []\n",
        "\n",
        "  for i in range(seam_y):\n",
        "    image, index = remove_min_seam(image) # will the image be updated after each iteration ?Q\n",
        "  indexes.append(index)\n",
        "\n",
        "  return image, indexes"
      ],
      "metadata": {
        "id": "H0kZuV_iqhph"
      },
      "execution_count": 38,
      "outputs": []
    },
    {
      "cell_type": "code",
      "source": [
        "def resize(image, percentage):\n",
        "  rows, cols = image.shape\n",
        "\n",
        "  num_seam_x = int(rows * percentage)\n",
        "  num_seam_y = int(cols * percentage)\n",
        "\n",
        "  image, row_red_indexes = uni_resize(image.T, num_seam_x)\n",
        "  image, column_red_indexes = uni_resize(image.T, num_seam_y)\n",
        "\n",
        "  return image, row_red_indexes, column_red_indexes"
      ],
      "metadata": {
        "id": "oTN5n14NsN-y"
      },
      "execution_count": 39,
      "outputs": []
    },
    {
      "cell_type": "code",
      "source": [
        "def make_red(image, red_indexes):\n",
        "  image = copy.deepcopy(image)\n",
        "  shift = 0\n",
        "\n",
        "  for seam in red_indexes:\n",
        "      for row, col in enumerate(seam):\n",
        "          adjusted_col = col + shift\n",
        "          image[row, adjusted_col] = [255, 0, 0]\n",
        "\n",
        "          if row > 0:\n",
        "              if seam[row] > seam[row - 1]:\n",
        "                  shift += 1\n",
        "              elif seam[row] < seam[row - 1]:\n",
        "                  shift -= 1\n",
        "\n",
        "  return image"
      ],
      "metadata": {
        "id": "ivq68WdItbbu"
      },
      "execution_count": 40,
      "outputs": []
    },
    {
      "cell_type": "code",
      "source": [
        "image = cv.imread('/content/OIP.jpg')\n",
        "image = cv.cvtColor(image, cv.COLOR_BGR2RGB)\n",
        "\n",
        "padded_image = cv.copyMakeBorder(copy.deepcopy(image), 1, 1, 1, 1, cv.BORDER_CONSTANT, value=0)\n",
        "gray_image = cv.cvtColor(padded_image, cv.COLOR_RGB2GRAY)\n",
        "\n",
        "row_energy, column_energy = energy(gray_image), energy(gray_image.T)\n",
        "resized_image, row_red_indexes, column_red_indexes = resize(gray_image, 0.2)\n",
        "red_image = make_red(make_red(image, row_red_indexes).T, column_red_indexes).T\n",
        "\n",
        "\n",
        "fig, axes = plt.subplots(2, 5, figsize=(15, 5))\n",
        "titles = [\"Original\", \"Row Energy\", \"Column Energy\", \"Resized\", \"Deleted Seams\"]\n",
        "\n",
        "for ax, img, title in zip(axes, [image, row_energy, column_energy, resized_image, red_image], titles):\n",
        "    if len(img.shape) == 2:\n",
        "        ax.imshow(img, cmap='gray')\n",
        "    else:\n",
        "        ax.imshow(img)\n",
        "    ax.axis(\"off\")\n",
        "\n",
        "plt.tight_layout()\n",
        "plt.show()"
      ],
      "metadata": {
        "colab": {
          "base_uri": "https://localhost:8080/",
          "height": 356
        },
        "id": "cvcfr4Pt9O2u",
        "outputId": "34b36a40-136c-401a-d6f3-344fc491fa1b"
      },
      "execution_count": 41,
      "outputs": [
        {
          "output_type": "error",
          "ename": "ValueError",
          "evalue": "min() arg is an empty sequence",
          "traceback": [
            "\u001b[0;31m---------------------------------------------------------------------------\u001b[0m",
            "\u001b[0;31mValueError\u001b[0m                                Traceback (most recent call last)",
            "\u001b[0;32m<ipython-input-41-a434f5c26f4a>\u001b[0m in \u001b[0;36m<cell line: 0>\u001b[0;34m()\u001b[0m\n\u001b[1;32m      6\u001b[0m \u001b[0;34m\u001b[0m\u001b[0m\n\u001b[1;32m      7\u001b[0m \u001b[0mrow_energy\u001b[0m\u001b[0;34m,\u001b[0m \u001b[0mcolumn_energy\u001b[0m \u001b[0;34m=\u001b[0m \u001b[0menergy\u001b[0m\u001b[0;34m(\u001b[0m\u001b[0mgray_image\u001b[0m\u001b[0;34m)\u001b[0m\u001b[0;34m,\u001b[0m \u001b[0menergy\u001b[0m\u001b[0;34m(\u001b[0m\u001b[0mgray_image\u001b[0m\u001b[0;34m.\u001b[0m\u001b[0mT\u001b[0m\u001b[0;34m)\u001b[0m\u001b[0;34m\u001b[0m\u001b[0;34m\u001b[0m\u001b[0m\n\u001b[0;32m----> 8\u001b[0;31m \u001b[0mresized_image\u001b[0m\u001b[0;34m,\u001b[0m \u001b[0mrow_red_indexes\u001b[0m\u001b[0;34m,\u001b[0m \u001b[0mcolumn_red_indexes\u001b[0m \u001b[0;34m=\u001b[0m \u001b[0mresize\u001b[0m\u001b[0;34m(\u001b[0m\u001b[0mgray_image\u001b[0m\u001b[0;34m,\u001b[0m \u001b[0;36m0.2\u001b[0m\u001b[0;34m)\u001b[0m\u001b[0;34m\u001b[0m\u001b[0;34m\u001b[0m\u001b[0m\n\u001b[0m\u001b[1;32m      9\u001b[0m \u001b[0mred_image\u001b[0m \u001b[0;34m=\u001b[0m \u001b[0mmake_red\u001b[0m\u001b[0;34m(\u001b[0m\u001b[0mmake_red\u001b[0m\u001b[0;34m(\u001b[0m\u001b[0mimage\u001b[0m\u001b[0;34m,\u001b[0m \u001b[0mrow_red_indexes\u001b[0m\u001b[0;34m)\u001b[0m\u001b[0;34m.\u001b[0m\u001b[0mT\u001b[0m\u001b[0;34m,\u001b[0m \u001b[0mcolumn_red_indexes\u001b[0m\u001b[0;34m)\u001b[0m\u001b[0;34m.\u001b[0m\u001b[0mT\u001b[0m\u001b[0;34m\u001b[0m\u001b[0;34m\u001b[0m\u001b[0m\n\u001b[1;32m     10\u001b[0m \u001b[0;34m\u001b[0m\u001b[0m\n",
            "\u001b[0;32m<ipython-input-39-fcf8faf6f592>\u001b[0m in \u001b[0;36mresize\u001b[0;34m(image, percentage)\u001b[0m\n\u001b[1;32m      5\u001b[0m   \u001b[0mnum_seam_y\u001b[0m \u001b[0;34m=\u001b[0m \u001b[0mint\u001b[0m\u001b[0;34m(\u001b[0m\u001b[0mcols\u001b[0m \u001b[0;34m*\u001b[0m \u001b[0mpercentage\u001b[0m\u001b[0;34m)\u001b[0m\u001b[0;34m\u001b[0m\u001b[0;34m\u001b[0m\u001b[0m\n\u001b[1;32m      6\u001b[0m \u001b[0;34m\u001b[0m\u001b[0m\n\u001b[0;32m----> 7\u001b[0;31m   \u001b[0mimage\u001b[0m\u001b[0;34m,\u001b[0m \u001b[0mrow_red_indexes\u001b[0m \u001b[0;34m=\u001b[0m \u001b[0muni_resize\u001b[0m\u001b[0;34m(\u001b[0m\u001b[0mimage\u001b[0m\u001b[0;34m.\u001b[0m\u001b[0mT\u001b[0m\u001b[0;34m,\u001b[0m \u001b[0mnum_seam_x\u001b[0m\u001b[0;34m)\u001b[0m\u001b[0;34m\u001b[0m\u001b[0;34m\u001b[0m\u001b[0m\n\u001b[0m\u001b[1;32m      8\u001b[0m   \u001b[0mimage\u001b[0m\u001b[0;34m,\u001b[0m \u001b[0mcolumn_red_indexes\u001b[0m \u001b[0;34m=\u001b[0m \u001b[0muni_resize\u001b[0m\u001b[0;34m(\u001b[0m\u001b[0mimage\u001b[0m\u001b[0;34m.\u001b[0m\u001b[0mT\u001b[0m\u001b[0;34m,\u001b[0m \u001b[0mnum_seam_y\u001b[0m\u001b[0;34m)\u001b[0m\u001b[0;34m\u001b[0m\u001b[0;34m\u001b[0m\u001b[0m\n\u001b[1;32m      9\u001b[0m \u001b[0;34m\u001b[0m\u001b[0m\n",
            "\u001b[0;32m<ipython-input-38-ce9634dc0586>\u001b[0m in \u001b[0;36muni_resize\u001b[0;34m(image, seam_y)\u001b[0m\n\u001b[1;32m      4\u001b[0m \u001b[0;34m\u001b[0m\u001b[0m\n\u001b[1;32m      5\u001b[0m   \u001b[0;32mfor\u001b[0m \u001b[0mi\u001b[0m \u001b[0;32min\u001b[0m \u001b[0mrange\u001b[0m\u001b[0;34m(\u001b[0m\u001b[0mseam_y\u001b[0m\u001b[0;34m)\u001b[0m\u001b[0;34m:\u001b[0m\u001b[0;34m\u001b[0m\u001b[0;34m\u001b[0m\u001b[0m\n\u001b[0;32m----> 6\u001b[0;31m     \u001b[0mimage\u001b[0m\u001b[0;34m,\u001b[0m \u001b[0mindex\u001b[0m \u001b[0;34m=\u001b[0m \u001b[0mremove_min_seam\u001b[0m\u001b[0;34m(\u001b[0m\u001b[0mimage\u001b[0m\u001b[0;34m)\u001b[0m \u001b[0;31m# will the image be updated after each iteration ?Q\u001b[0m\u001b[0;34m\u001b[0m\u001b[0;34m\u001b[0m\u001b[0m\n\u001b[0m\u001b[1;32m      7\u001b[0m   \u001b[0mindexes\u001b[0m\u001b[0;34m.\u001b[0m\u001b[0mappend\u001b[0m\u001b[0;34m(\u001b[0m\u001b[0mindex\u001b[0m\u001b[0;34m)\u001b[0m\u001b[0;34m\u001b[0m\u001b[0;34m\u001b[0m\u001b[0m\n\u001b[1;32m      8\u001b[0m \u001b[0;34m\u001b[0m\u001b[0m\n",
            "\u001b[0;32m<ipython-input-37-d34c2fa6f53f>\u001b[0m in \u001b[0;36mremove_min_seam\u001b[0;34m(image)\u001b[0m\n\u001b[1;32m      3\u001b[0m \u001b[0;34m\u001b[0m\u001b[0m\n\u001b[1;32m      4\u001b[0m     \u001b[0mseams\u001b[0m \u001b[0;34m=\u001b[0m \u001b[0mparallel_seam_find\u001b[0m\u001b[0;34m(\u001b[0m\u001b[0mimage\u001b[0m\u001b[0;34m)\u001b[0m\u001b[0;34m\u001b[0m\u001b[0;34m\u001b[0m\u001b[0m\n\u001b[0;32m----> 5\u001b[0;31m     \u001b[0mmin_energy\u001b[0m \u001b[0;34m=\u001b[0m \u001b[0mmin\u001b[0m\u001b[0;34m(\u001b[0m\u001b[0mseams\u001b[0m\u001b[0;34m.\u001b[0m\u001b[0mkeys\u001b[0m\u001b[0;34m(\u001b[0m\u001b[0;34m)\u001b[0m\u001b[0;34m)\u001b[0m\u001b[0;34m\u001b[0m\u001b[0;34m\u001b[0m\u001b[0m\n\u001b[0m\u001b[1;32m      6\u001b[0m     \u001b[0mindexes\u001b[0m \u001b[0;34m=\u001b[0m \u001b[0mseams\u001b[0m\u001b[0;34m[\u001b[0m\u001b[0mmin_energy\u001b[0m\u001b[0;34m]\u001b[0m\u001b[0;34m\u001b[0m\u001b[0;34m\u001b[0m\u001b[0m\n\u001b[1;32m      7\u001b[0m \u001b[0;34m\u001b[0m\u001b[0m\n",
            "\u001b[0;31mValueError\u001b[0m: min() arg is an empty sequence"
          ]
        }
      ]
    },
    {
      "cell_type": "code",
      "source": [],
      "metadata": {
        "id": "VlhVH5Dt5Dwv"
      },
      "execution_count": null,
      "outputs": []
    }
  ]
}