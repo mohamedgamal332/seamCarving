{
  "cells": [
    {
      "cell_type": "code",
      "execution_count": 12,
      "metadata": {
        "id": "mP5ggNuE70ap"
      },
      "outputs": [],
      "source": [
        "import cv2 as cv\n",
        "import numpy as np\n",
        "import matplotlib.pyplot as plt\n",
        "import copy\n",
        "import multiprocessing"
      ]
    },
    {
      "cell_type": "code",
      "execution_count": 13,
      "metadata": {
        "id": "TduCEmDs9Vqo"
      },
      "outputs": [],
      "source": [
        "#energy calculation of a column (row.T)\n",
        "def energy(image):\n",
        "    if len(image.shape) == 3:\n",
        "        energy_map = np.zeros(image.shape[:2], dtype=np.float64)\n",
        "\n",
        "        for channel in range(3):\n",
        "            sobel_x = cv.Sobel(image[:, :, channel], cv.CV_64F, 1, 0, ksize=3)\n",
        "            sobel_y = cv.Sobel(image[:, :, channel], cv.CV_64F, 0, 1, ksize=3)\n",
        "            energy_map += np.sqrt(sobel_x**2 + sobel_y**2)\n",
        "\n",
        "    else:\n",
        "        sobel_x = cv.Sobel(image, cv.CV_64F, 1, 0, ksize=3)\n",
        "        sobel_y = cv.Sobel(image, cv.CV_64F, 0, 1, ksize=3)\n",
        "        energy_map = np.sqrt(sobel_x**2 + sobel_y**2)\n",
        "\n",
        "    return energy_map"
      ]
    },
    {
      "cell_type": "code",
      "execution_count": 14,
      "metadata": {
        "id": "mFPToQhX9Y3V"
      },
      "outputs": [],
      "source": [
        "#remove a seam (row.T)\n",
        "import numpy as np\n",
        "\n",
        "def remove_seam(image, indexes):\n",
        "    rows, cols, channels = image.shape\n",
        "    indexes = np.array(indexes)  # Ensure it's a NumPy array\n",
        "\n",
        "    if len(indexes) != rows:\n",
        "        raise ValueError(f\"Mismatch: Expected {rows} seam indexes but got {len(indexes)}\")\n",
        "\n",
        "    # Create a mask to keep only necessary pixels\n",
        "    mask = np.ones((rows, cols), dtype=bool)\n",
        "\n",
        "    for i in range(rows):\n",
        "        j = indexes[i]\n",
        "        if not (0 <= j < cols):\n",
        "            raise ValueError(f\"Invalid index {j} for row {i}, must be between 0 and {cols - 1}\")\n",
        "        mask[i, j] = False  # Mark pixel for removal\n",
        "\n",
        "    # Apply mask to remove seam\n",
        "    new_image = image[mask].reshape((rows, cols - 1, channels))\n",
        "\n",
        "    return new_image"
      ]
    },
    {
      "cell_type": "code",
      "execution_count": 15,
      "metadata": {
        "id": "leabDETMLvBg"
      },
      "outputs": [],
      "source": [
        "# sequential Dynamic programming\n",
        "import numpy as np\n",
        "\n",
        "def min_index(p_l, p, p_r):\n",
        "    if p_l <= p and p_l <= p_r:\n",
        "        return -1\n",
        "    elif p <= p_l and p <= p_r:\n",
        "        return 0\n",
        "    else:\n",
        "        return 1\n",
        "\n",
        "def sequential_seam_find(image):\n",
        "    energy_matrix = energy(image)\n",
        "    rows, cols = energy_matrix.shape\n",
        "\n",
        "    val = [energy_matrix[rows - 2][j] for j in range(1, cols - 1)]\n",
        "    indexes = [[j] for j in range(1, cols - 1)]\n",
        "\n",
        "    for i in range(rows - 3, 0, -1):\n",
        "        new_val = [0] * (cols - 2)\n",
        "        new_indexes = [[] for _ in range(cols - 2)]\n",
        "\n",
        "        for j in range(1, cols - 1):\n",
        "            p_l = energy_matrix[i][j - 1] if j - 1 >= 1 else float('inf')\n",
        "            p = energy_matrix[i][j]\n",
        "            p_r = energy_matrix[i][j + 1] if j + 1 < cols - 1 else float('inf')\n",
        "\n",
        "            index_offset = min_index(p_l, p, p_r)\n",
        "            new_val[j - 1] = val[(j - 1) + index_offset] + energy_matrix[i][j]\n",
        "            new_indexes[j - 1] = indexes[(j - 1) + index_offset] + [j]\n",
        "\n",
        "        val, indexes = new_val, new_indexes\n",
        "\n",
        "    return dict(zip(val, indexes))"
      ]
    },
    {
      "cell_type": "code",
      "execution_count": 16,
      "metadata": {
        "id": "WWas1H6p9f7L"
      },
      "outputs": [],
      "source": [
        "import torch\n",
        "\n",
        "def min_index(p_l, p, p_r):\n",
        "    offsets = torch.tensor([-1, 0, 1], device=p_l.device)\n",
        "    values = torch.stack([p_l, p, p_r], dim=0)\n",
        "    min_indices = torch.argmin(values, dim=0)\n",
        "    return offsets[min_indices]\n",
        "\n",
        "def parallel_seam_find(image):\n",
        "    energy_matrix = torch.tensor(energy(image), device='cuda', dtype=torch.float32)\n",
        "    rows, cols = energy_matrix.shape\n",
        "\n",
        "    val = energy_matrix[rows - 1, :].clone()\n",
        "    indexes = [[j] for j in range(cols)]\n",
        "\n",
        "    for i in range(rows - 2, -1, -1):\n",
        "        p_l = energy_matrix[i, :-2]\n",
        "        p = energy_matrix[i, 1:-1]\n",
        "        p_r = energy_matrix[i, 2:]\n",
        "\n",
        "        index_offset = min_index(p_l, p, p_r)\n",
        "        index_offset_list = index_offset.cpu().tolist()\n",
        "\n",
        "        new_val = val[1:-1] + p\n",
        "        new_indexes = [indexes[j + index_offset_list[j]] + [j + 1] for j in range(len(new_val))]\n",
        "\n",
        "        val, indexes = new_val, new_indexes\n",
        "\n",
        "    min_seam_idx = torch.argmin(val).item()\n",
        "    seam_path = indexes[min_seam_idx]\n",
        "\n",
        "    if len(seam_path) != rows:\n",
        "        print(f\"Warning: Seam path length mismatch ({len(seam_path)} vs {rows}). Adjusting...\")\n",
        "        while len(seam_path) < rows:\n",
        "            seam_path.append(seam_path[-1])  # Extend to maintain length\n",
        "        seam_path = seam_path[:rows]  # Trim excess if needed\n",
        "\n",
        "    return seam_path\n"
      ]
    },
    {
      "cell_type": "code",
      "execution_count": 17,
      "metadata": {
        "id": "PQmcDPvbNZi8"
      },
      "outputs": [],
      "source": [
        "# remove seam with min score\n",
        "def remove_min_seam(image):\n",
        "\n",
        "    seams = parallel_seam_find(image)\n",
        "    print(seams)\n",
        "    min_energy = min(seams.keys())\n",
        "    indexes = seams[min_energy]\n",
        "\n",
        "    image = remove_seam(image, indexes)\n",
        "\n",
        "    return image, indexes\n"
      ]
    },
    {
      "cell_type": "code",
      "execution_count": 18,
      "metadata": {
        "id": "H0kZuV_iqhph"
      },
      "outputs": [],
      "source": [
        "# deal with columns\n",
        "def uni_resize(image, seam_y):\n",
        "  indexes = []\n",
        "\n",
        "  for i in range(seam_y):\n",
        "    image, index = remove_min_seam(image)\n",
        "  indexes.append(index)\n",
        "\n",
        "  return image, indexes"
      ]
    },
    {
      "cell_type": "code",
      "execution_count": 19,
      "metadata": {
        "id": "o06ep6d454wi"
      },
      "outputs": [],
      "source": [
        "def transpose_image(image):\n",
        "    return np.transpose(image, (1, 0, 2))"
      ]
    },
    {
      "cell_type": "code",
      "execution_count": 20,
      "metadata": {
        "id": "oTN5n14NsN-y"
      },
      "outputs": [],
      "source": [
        "def resize(image, percentage):\n",
        "    rows, cols, _ = image.shape\n",
        "    print(f\"Image dimensions: {rows} x {cols}\")\n",
        "    print(f\"Number of CPU cores: {multiprocessing.cpu_count()}\")\n",
        "\n",
        "    num_seam_x = int(rows * percentage)\n",
        "    num_seam_y = int(cols * percentage)\n",
        "\n",
        "    image, row_red_indexes = uni_resize(transpose_image(image), num_seam_x)\n",
        "    image = transpose_image(image)\n",
        "\n",
        "    image, column_red_indexes = uni_resize(image, num_seam_y)\n",
        "\n",
        "    return image, row_red_indexes, column_red_indexes"
      ]
    },
    {
      "cell_type": "code",
      "execution_count": 21,
      "metadata": {
        "id": "ivq68WdItbbu"
      },
      "outputs": [],
      "source": [
        "def make_red(image, red_indexes):\n",
        "    image = copy.deepcopy(image)\n",
        "\n",
        "    for seam in red_indexes:\n",
        "        shift = 0\n",
        "        for row, col in enumerate(seam):\n",
        "            adjusted_col = col + shift\n",
        "\n",
        "            adjusted_col = max(0, min(adjusted_col, image.shape[1] - 1))\n",
        "\n",
        "            image[row, adjusted_col] = [255, 0, 0]\n",
        "\n",
        "            if row > 0:\n",
        "                if seam[row] > seam[row - 1]:\n",
        "                    shift += 1\n",
        "                elif seam[row] < seam[row - 1]:\n",
        "                    shift -= 1\n",
        "\n",
        "    return image"
      ]
    },
    {
      "cell_type": "code",
      "execution_count": null,
      "metadata": {
        "id": "cvcfr4Pt9O2u"
      },
      "outputs": [],
      "source": [
        "image = cv.imread('/content/OIP.jpg')\n",
        "image = cv.cvtColor(image, cv.COLOR_BGR2RGB)\n",
        "\n",
        "energy_map = energy(image)\n",
        "\n",
        "resized_image, row_red_indexes, column_red_indexes = resize(image, 0.2)\n",
        "\n",
        "highlighted_image = make_red(image, row_red_indexes)\n",
        "\n",
        "highlighted_image = make_red(highlighted_image.transpose(1, 0, 2), column_red_indexes).transpose(1, 0, 2)\n",
        "\n",
        "fig, axes = plt.subplots(1, 4, figsize=(15, 5))\n",
        "titles = [\"Original\", \"Energy Map\", \"Resized\", \"Deleted Seams\"]\n",
        "images = [image, energy_map, resized_image, highlighted_image]\n",
        "\n",
        "for ax, img, title in zip(axes, images, titles):\n",
        "    if img.ndim == 2:\n",
        "        ax.imshow(img, cmap='gray')\n",
        "    else:\n",
        "        ax.imshow(img)\n",
        "    ax.set_title(title)\n",
        "    ax.axis(\"off\")\n",
        "\n",
        "plt.tight_layout()\n",
        "plt.show()"
      ]
    },
    {
      "cell_type": "code",
      "source": [],
      "metadata": {
        "id": "-r8U1PdTO21h"
      },
      "execution_count": null,
      "outputs": []
    }
  ],
  "metadata": {
    "accelerator": "GPU",
    "colab": {
      "gpuType": "T4",
      "provenance": []
    },
    "kernelspec": {
      "display_name": "Python 3",
      "name": "python3"
    },
    "language_info": {
      "name": "python"
    }
  },
  "nbformat": 4,
  "nbformat_minor": 0
}